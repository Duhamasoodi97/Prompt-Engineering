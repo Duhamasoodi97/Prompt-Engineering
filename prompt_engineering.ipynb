{
  "nbformat": 4,
  "nbformat_minor": 0,
  "metadata": {
    "colab": {
      "provenance": []
    },
    "kernelspec": {
      "name": "python3",
      "display_name": "Python 3"
    },
    "language_info": {
      "name": "python"
    }
  },
  "cells": [
    {
      "cell_type": "code",
      "execution_count": null,
      "metadata": {
        "id": "h7xSG8ZePo_v"
      },
      "outputs": [],
      "source": [
        "from google import genai\n"
      ]
    },
    {
      "cell_type": "code",
      "source": [
        "\n",
        "from google.genai import types\n",
        "client = genai.Client(api_key=\"yourapikey\")\n"
      ],
      "metadata": {
        "id": "BkeQAPhCPwBc"
      },
      "execution_count": null,
      "outputs": []
    },
    {
      "cell_type": "code",
      "source": [
        "sampling_config = types.GenerateContentConfig(\n",
        "    temperature=0.9,\n",
        "    top_k=5,\n",
        "    top_p=0.85,\n",
        "    max_output_tokens=100\n",
        ")\n"
      ],
      "metadata": {
        "id": "o1pq5WiDRKQ7"
      },
      "execution_count": null,
      "outputs": []
    },
    {
      "cell_type": "code",
      "source": [
        "my_prompt = \"Give me a unique idea for a science fiction story.\"\n"
      ],
      "metadata": {
        "id": "DO2SCUs0RQvI"
      },
      "execution_count": null,
      "outputs": []
    },
    {
      "cell_type": "code",
      "source": [
        "response = client.models.generate_content(\n",
        "    model=\"gemini-2.0-flash\",\n",
        "    config=sampling_config,\n",
        "    contents=my_prompt\n",
        ")\n"
      ],
      "metadata": {
        "id": "f9mYlJ0jRczc"
      },
      "execution_count": null,
      "outputs": []
    },
    {
      "cell_type": "code",
      "source": [
        "print(response.text)\n"
      ],
      "metadata": {
        "colab": {
          "base_uri": "https://localhost:8080/"
        },
        "id": "8C2rNV_gRqd9",
        "outputId": "f97db56a-4306-4cf1-b117-5fb3a62ee3ff"
      },
      "execution_count": null,
      "outputs": [
        {
          "output_type": "stream",
          "name": "stdout",
          "text": [
            "Okay, here's a unique science fiction story idea:\n",
            "\n",
            "**Title:** The Echo Weaver\n",
            "\n",
            "**Premise:** In a future where memories can be extracted, commodified, and re-experienced, a new profession emerges: Echo Weavers. These individuals are not simply recorders of memories; they are artists who take fragmented, unwanted, or traumatic memories from individuals and weave them into cohesive, beautiful, and emotionally resonant experiences for others.\n",
            "\n",
            "**Unique Twist:** The protagonist, Anya, is an\n"
          ]
        }
      ]
    },
    {
      "cell_type": "code",
      "source": [
        "zero_shot_prompt = \"\"\"\n",
        "Classify the sentiment as POSITIVE, NEUTRAL, or NEGATIVE.\n",
        "Review: I loved the movie so much!\n",
        "Sentiment:\n",
        "\"\"\"\n",
        "\n",
        "response = client.models.generate_content(\n",
        "    model='gemini-2.0-flash',\n",
        "    contents=zero_shot_prompt\n",
        ")\n",
        "\n",
        "print(\"Zero-shot response:\", response.text)\n"
      ],
      "metadata": {
        "colab": {
          "base_uri": "https://localhost:8080/"
        },
        "id": "zUOSgj7ERt_O",
        "outputId": "150d9a8f-955b-4049-d8ed-ce6be5080bc8"
      },
      "execution_count": null,
      "outputs": [
        {
          "output_type": "stream",
          "name": "stdout",
          "text": [
            "Zero-shot response: POSITIVE\n",
            "\n"
          ]
        }
      ]
    },
    {
      "cell_type": "code",
      "source": [
        "one_shot_prompt = \"\"\"\n",
        "Classify the sentiment as POSITIVE, NEUTRAL, or NEGATIVE.\n",
        "\n",
        "Example:\n",
        "Review: The food was awful and cold.\n",
        "Sentiment: NEGATIVE\n",
        "\n",
        "Now classify this:\n",
        "Review: The weather was amazing today!\n",
        "Sentiment:\n",
        "\"\"\"\n",
        "\n",
        "response = client.models.generate_content(\n",
        "    model='gemini-2.0-flash',\n",
        "    contents=one_shot_prompt\n",
        ")\n",
        "\n",
        "print(\"One-shot response:\", response.text)\n"
      ],
      "metadata": {
        "colab": {
          "base_uri": "https://localhost:8080/"
        },
        "id": "8OOB_gSPS_hs",
        "outputId": "b37d26d7-27c8-45bb-f96f-fde8f29c76e4"
      },
      "execution_count": null,
      "outputs": [
        {
          "output_type": "stream",
          "name": "stdout",
          "text": [
            "One-shot response: POSITIVE\n",
            "\n"
          ]
        }
      ]
    },
    {
      "cell_type": "code",
      "source": [
        "few_shot_prompt = \"\"\"\n",
        "Classify the sentiment as POSITIVE, NEUTRAL, or NEGATIVE.\n",
        "\n",
        "Example 1:\n",
        "Review: The service was terrible.\n",
        "Sentiment: NEGATIVE\n",
        "\n",
        "Example 2:\n",
        "Review: It was just an okay experience.\n",
        "Sentiment: NEUTRAL\n",
        "\n",
        "Example 3:\n",
        "Review: I absolutely loved the new design!\n",
        "Sentiment: POSITIVE\n",
        "\n",
        "Now classify this:\n",
        "Review: The movie was fine, nothing special.\n",
        "Sentiment:\n",
        "\"\"\"\n",
        "\n",
        "response = client.models.generate_content(\n",
        "    model='gemini-2.0-flash',\n",
        "    contents=few_shot_prompt\n",
        ")\n",
        "\n",
        "print(\"Few-shot response:\", response.text)\n"
      ],
      "metadata": {
        "colab": {
          "base_uri": "https://localhost:8080/"
        },
        "id": "A79pJRrVTCNj",
        "outputId": "8963dc42-451a-4c4d-884d-3071675df9c5"
      },
      "execution_count": null,
      "outputs": [
        {
          "output_type": "stream",
          "name": "stdout",
          "text": [
            "Few-shot response: NEUTRAL\n",
            "\n"
          ]
        }
      ]
    },
    {
      "cell_type": "code",
      "source": [
        "from google.genai import types\n",
        "\n",
        "system_prompt = \"You are a helpful and polite assistant who explains everything in very simple words.\"\n",
        "\n",
        "config = types.GenerateContentConfig(\n",
        "    system_instruction=system_prompt\n",
        ")\n",
        "\n",
        "response = client.models.generate_content(\n",
        "    model=\"gemini-2.0-flash\",\n",
        "    config=config,\n",
        "    contents=\"Explain what is machine learning.\"\n",
        ")\n",
        "\n",
        "print(\"System Prompting:\", response.text)\n"
      ],
      "metadata": {
        "colab": {
          "base_uri": "https://localhost:8080/"
        },
        "id": "q3VepGFbTFQw",
        "outputId": "d88c5b8e-17a0-4c55-97cc-aef79565e374"
      },
      "execution_count": null,
      "outputs": [
        {
          "output_type": "stream",
          "name": "stdout",
          "text": [
            "System Prompting: Imagine you have a dog, and you want to teach it to sit. You don't tell the dog exactly how to sit, like \"bend your knees this way, lower your body like that.\" Instead, you show the dog what sitting looks like and reward it when it does something similar. Over time, the dog learns to sit better and better because it gets rewarded for doing it right.\n",
            "\n",
            "Machine learning is like teaching a computer to do something without telling it exactly how to do it. Instead of giving the computer step-by-step instructions, we give it lots and lots of examples and let it learn from those examples.\n",
            "\n",
            "**Here's a simple way to think about it:**\n",
            "\n",
            "*   **Examples:** These are like the times you show your dog what \"sitting\" looks like. In machine learning, these examples are called \"data.\"\n",
            "*   **Learning:** The computer looks at the examples and tries to find patterns. It's like the dog figuring out that lowering its body gets it a treat.\n",
            "*   **Prediction:** Once the computer has learned from the examples, it can make predictions about new things. It's like the dog knowing to sit even when you haven't explicitly told it to.\n",
            "\n",
            "**So, in a nutshell, machine learning is:**\n",
            "\n",
            "*   **Teaching a computer to learn from data.**\n",
            "*   **Letting it find patterns on its own.**\n",
            "*   **Using those patterns to make predictions or decisions.**\n",
            "\n",
            "**Here's an example:**\n",
            "\n",
            "Imagine you want to teach a computer to recognize pictures of cats. You show it thousands of pictures of cats and tell it, \"This is a cat.\" You also show it thousands of pictures of other things and tell it, \"This is not a cat.\"\n",
            "\n",
            "After seeing all these pictures, the computer starts to learn what features are common in cat pictures (like pointy ears, whiskers, etc.). Then, when you show it a brand-new picture, it can use what it learned to guess whether it's a cat or not!\n",
            "\n",
            "That's machine learning! It's all about letting computers learn from data to do cool things.\n",
            "\n"
          ]
        }
      ]
    },
    {
      "cell_type": "code",
      "source": [
        "chat = client.chats.create(\n",
        "    model=\"gemini-2.0-flash\",\n",
        "    history=[\n",
        "        {\n",
        "            \"role\": \"user\",\n",
        "            \"parts\": [{\"text\": \"Hi, my name is Duha.\"}]\n",
        "        },\n",
        "        {\n",
        "            \"role\": \"model\",\n",
        "            \"parts\": [{\"text\": \"Hi Duha! How can I help you today?\"}]\n",
        "        }\n",
        "    ]\n",
        ")\n",
        "\n",
        "response = chat.send_message(\"Can you remind me what my name is?\")\n",
        "print(\"Contextual Prompting:\", response.text)\n"
      ],
      "metadata": {
        "colab": {
          "base_uri": "https://localhost:8080/"
        },
        "id": "luO2Lsf5TyfG",
        "outputId": "3d5be977-5827-4c0e-d0f0-ba61755b14f5"
      },
      "execution_count": null,
      "outputs": [
        {
          "output_type": "stream",
          "name": "stdout",
          "text": [
            "Contextual Prompting: Your name is Duha.\n",
            "\n"
          ]
        }
      ]
    },
    {
      "cell_type": "code",
      "source": [
        "role_prompt = \"You are a math teacher who loves explaining with fun examples.\"\n",
        "\n",
        "response = client.models.generate_content(\n",
        "    model=\"gemini-2.0-flash\",\n",
        "    config=types.GenerateContentConfig(\n",
        "        system_instruction=role_prompt\n",
        "    ),\n",
        "    contents=\"Teach me what is division.\"\n",
        ")\n",
        "\n",
        "print(\"Role Prompting:\", response.text)\n"
      ],
      "metadata": {
        "colab": {
          "base_uri": "https://localhost:8080/"
        },
        "id": "3a-lwGRjT6-M",
        "outputId": "ea813932-6583-4eb5-bd68-7ecc4fef5be2"
      },
      "execution_count": null,
      "outputs": [
        {
          "output_type": "stream",
          "name": "stdout",
          "text": [
            "Role Prompting: Alright, let's dive into the world of division! Think of division as the opposite of multiplication. While multiplication is like combining equal groups, division is like splitting something into equal groups or figuring out how many equal groups you can make.\n",
            "\n",
            "**The Basic Idea: Sharing is Caring (and Division!)**\n",
            "\n",
            "Imagine you have a bag of 12 delicious cookies 🍪🍪🍪🍪🍪🍪🍪🍪🍪🍪🍪🍪 and you want to share them equally with your 3 best friends (including you, so 3 people total). Division helps you figure out how many cookies each person gets.\n",
            "\n",
            "*   **What we're doing:** We're taking the total number of cookies (12) and splitting it into 3 equal groups.\n",
            "*   **The division problem:** 12 ÷ 3 = ? (This reads as \"12 divided by 3 equals what?\")\n",
            "*   **The answer:** Each person gets 4 cookies! (12 ÷ 3 = 4)\n",
            "    *   🍪🍪🍪🍪\n",
            "    *   🍪🍪🍪🍪\n",
            "    *   🍪🍪🍪🍪\n",
            "\n",
            "**Visualizing Division**\n",
            "\n",
            "Let's try another example! Suppose you have 20 Lego bricks and you want to build towers with 5 Lego bricks each. How many towers can you build?\n",
            "\n",
            "*   **What we're doing:** We're grouping the 20 Lego bricks into groups of 5.\n",
            "*   **The division problem:** 20 ÷ 5 = ?\n",
            "*   **The answer:** You can build 4 towers!\n",
            "    *   🧱🧱🧱🧱🧱\n",
            "    *   🧱🧱🧱🧱🧱\n",
            "    *   🧱🧱🧱🧱🧱\n",
            "    *   🧱🧱🧱🧱🧱\n",
            "\n",
            "**The Parts of a Division Problem**\n",
            "\n",
            "Let's use our cookie example (12 ÷ 3 = 4) to label the parts:\n",
            "\n",
            "*   **Dividend:** The number being divided (the total amount you're starting with). In our case, it's 12 (the total number of cookies).\n",
            "*   **Divisor:** The number you're dividing by (the number of groups you're making). Here, it's 3 (the number of people).\n",
            "*   **Quotient:** The answer to the division problem (the number in each group). It's 4 (the number of cookies each person gets).\n",
            "\n",
            "**Division with Remainders**\n",
            "\n",
            "Sometimes, things don't divide perfectly. What if you had 13 cookies and wanted to share them equally among your 3 friends?\n",
            "\n",
            "*   **The problem:** 13 ÷ 3 = ?\n",
            "*   You can give each person 4 cookies (that's 3 x 4 = 12 cookies used).\n",
            "*   But you're left with 1 cookie! This leftover is called the **remainder**.\n",
            "*   So, 13 ÷ 3 = 4 with a remainder of 1. We often write this as 13 ÷ 3 = 4 R 1.\n",
            "\n",
            "**Think of it this way:**\n",
            "\n",
            "*   You give each of your 3 friends 4 cookies each.\n",
            "*   You get to eat the one remaining cookie all by yourself!\n",
            "\n",
            "**Why is Division Important?**\n",
            "\n",
            "Division is everywhere in real life!\n",
            "\n",
            "*   **Sharing:** Splitting the cost of a pizza with friends.\n",
            "*   **Cooking:** Dividing a recipe in half.\n",
            "*   **Travel:** Figuring out how long a road trip will take if you know the distance and your speed.\n",
            "*   **Problem-solving:** Figuring out how many buses you need for a field trip.\n",
            "\n",
            "**In a nutshell:** Division is a way of splitting things into equal groups, finding out how many groups you can make, and dealing with any leftovers. It's a super important tool for solving all sorts of problems, big and small! Do you have any questions?\n",
            "\n"
          ]
        }
      ]
    },
    {
      "cell_type": "code",
      "source": [],
      "metadata": {
        "id": "v-MUeSelUO5B"
      },
      "execution_count": null,
      "outputs": []
    }
  ]
}